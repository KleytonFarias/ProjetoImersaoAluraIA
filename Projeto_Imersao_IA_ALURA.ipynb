{
  "nbformat": 4,
  "nbformat_minor": 0,
  "metadata": {
    "colab": {
      "provenance": [],
      "authorship_tag": "ABX9TyPurHWnEu16LNW6AlF5/ydg",
      "include_colab_link": true
    },
    "kernelspec": {
      "name": "python3",
      "display_name": "Python 3"
    },
    "language_info": {
      "name": "python"
    },
    "widgets": {
      "application/vnd.jupyter.widget-state+json": {
        "1c246a14a2a4430d9757051737dcd200": {
          "model_module": "@jupyter-widgets/controls",
          "model_name": "TextareaModel",
          "model_module_version": "1.5.0",
          "state": {
            "_dom_classes": [],
            "_model_module": "@jupyter-widgets/controls",
            "_model_module_version": "1.5.0",
            "_model_name": "TextareaModel",
            "_view_count": null,
            "_view_module": "@jupyter-widgets/controls",
            "_view_module_version": "1.5.0",
            "_view_name": "TextareaView",
            "continuous_update": true,
            "description": "Regras (separadas por linha):",
            "description_tooltip": null,
            "disabled": false,
            "layout": "IPY_MODEL_b4ea52ae8d9f42f8b1c431660f98134f",
            "placeholder": "​",
            "rows": null,
            "style": "IPY_MODEL_5936c12be2ea4087959ceb67b269e082",
            "value": "O contrato deve ter duração mínima de 1 ano.\nO valor da remuneração deve ser explicitamente definido.\nO contrato deve especificar as obrigações de ambas as partes."
          }
        },
        "b4ea52ae8d9f42f8b1c431660f98134f": {
          "model_module": "@jupyter-widgets/base",
          "model_name": "LayoutModel",
          "model_module_version": "1.2.0",
          "state": {
            "_model_module": "@jupyter-widgets/base",
            "_model_module_version": "1.2.0",
            "_model_name": "LayoutModel",
            "_view_count": null,
            "_view_module": "@jupyter-widgets/base",
            "_view_module_version": "1.2.0",
            "_view_name": "LayoutView",
            "align_content": null,
            "align_items": null,
            "align_self": null,
            "border": null,
            "bottom": null,
            "display": null,
            "flex": null,
            "flex_flow": null,
            "grid_area": null,
            "grid_auto_columns": null,
            "grid_auto_flow": null,
            "grid_auto_rows": null,
            "grid_column": null,
            "grid_gap": null,
            "grid_row": null,
            "grid_template_areas": null,
            "grid_template_columns": null,
            "grid_template_rows": null,
            "height": null,
            "justify_content": null,
            "justify_items": null,
            "left": null,
            "margin": null,
            "max_height": null,
            "max_width": null,
            "min_height": null,
            "min_width": null,
            "object_fit": null,
            "object_position": null,
            "order": null,
            "overflow": null,
            "overflow_x": null,
            "overflow_y": null,
            "padding": null,
            "right": null,
            "top": null,
            "visibility": null,
            "width": null
          }
        },
        "5936c12be2ea4087959ceb67b269e082": {
          "model_module": "@jupyter-widgets/controls",
          "model_name": "DescriptionStyleModel",
          "model_module_version": "1.5.0",
          "state": {
            "_model_module": "@jupyter-widgets/controls",
            "_model_module_version": "1.5.0",
            "_model_name": "DescriptionStyleModel",
            "_view_count": null,
            "_view_module": "@jupyter-widgets/base",
            "_view_module_version": "1.2.0",
            "_view_name": "StyleView",
            "description_width": ""
          }
        },
        "3225a71fe8cc4edbad1aded3040d998a": {
          "model_module": "@jupyter-widgets/controls",
          "model_name": "TextareaModel",
          "model_module_version": "1.5.0",
          "state": {
            "_dom_classes": [],
            "_model_module": "@jupyter-widgets/controls",
            "_model_module_version": "1.5.0",
            "_model_name": "TextareaModel",
            "_view_count": null,
            "_view_module": "@jupyter-widgets/controls",
            "_view_module_version": "1.5.0",
            "_view_name": "TextareaView",
            "continuous_update": true,
            "description": "Contrato:",
            "description_tooltip": null,
            "disabled": false,
            "layout": "IPY_MODEL_e200251541284f7d94ca6b50364be8a6",
            "placeholder": "​",
            "rows": null,
            "style": "IPY_MODEL_aa017b00a9e1496eb29663b2e9f27495",
            "value": "Este contrato terá duração de 6 meses.\nO pagamento será realizado conforme acordado verbalmente.\nAs partes se comprometem a cumprir com suas responsabilidades."
          }
        },
        "e200251541284f7d94ca6b50364be8a6": {
          "model_module": "@jupyter-widgets/base",
          "model_name": "LayoutModel",
          "model_module_version": "1.2.0",
          "state": {
            "_model_module": "@jupyter-widgets/base",
            "_model_module_version": "1.2.0",
            "_model_name": "LayoutModel",
            "_view_count": null,
            "_view_module": "@jupyter-widgets/base",
            "_view_module_version": "1.2.0",
            "_view_name": "LayoutView",
            "align_content": null,
            "align_items": null,
            "align_self": null,
            "border": null,
            "bottom": null,
            "display": null,
            "flex": null,
            "flex_flow": null,
            "grid_area": null,
            "grid_auto_columns": null,
            "grid_auto_flow": null,
            "grid_auto_rows": null,
            "grid_column": null,
            "grid_gap": null,
            "grid_row": null,
            "grid_template_areas": null,
            "grid_template_columns": null,
            "grid_template_rows": null,
            "height": null,
            "justify_content": null,
            "justify_items": null,
            "left": null,
            "margin": null,
            "max_height": null,
            "max_width": null,
            "min_height": null,
            "min_width": null,
            "object_fit": null,
            "object_position": null,
            "order": null,
            "overflow": null,
            "overflow_x": null,
            "overflow_y": null,
            "padding": null,
            "right": null,
            "top": null,
            "visibility": null,
            "width": null
          }
        },
        "aa017b00a9e1496eb29663b2e9f27495": {
          "model_module": "@jupyter-widgets/controls",
          "model_name": "DescriptionStyleModel",
          "model_module_version": "1.5.0",
          "state": {
            "_model_module": "@jupyter-widgets/controls",
            "_model_module_version": "1.5.0",
            "_model_name": "DescriptionStyleModel",
            "_view_count": null,
            "_view_module": "@jupyter-widgets/base",
            "_view_module_version": "1.2.0",
            "_view_name": "StyleView",
            "description_width": ""
          }
        },
        "05860da1642d4f09abf4908de82009de": {
          "model_module": "@jupyter-widgets/controls",
          "model_name": "ButtonModel",
          "model_module_version": "1.5.0",
          "state": {
            "_dom_classes": [],
            "_model_module": "@jupyter-widgets/controls",
            "_model_module_version": "1.5.0",
            "_model_name": "ButtonModel",
            "_view_count": null,
            "_view_module": "@jupyter-widgets/controls",
            "_view_module_version": "1.5.0",
            "_view_name": "ButtonView",
            "button_style": "",
            "description": "Analisar Contrato",
            "disabled": false,
            "icon": "",
            "layout": "IPY_MODEL_26d3ab2c07c745458b13e9fdcc30e6d9",
            "style": "IPY_MODEL_b8956abbeea940e3a0b73232bc20f49b",
            "tooltip": ""
          }
        },
        "26d3ab2c07c745458b13e9fdcc30e6d9": {
          "model_module": "@jupyter-widgets/base",
          "model_name": "LayoutModel",
          "model_module_version": "1.2.0",
          "state": {
            "_model_module": "@jupyter-widgets/base",
            "_model_module_version": "1.2.0",
            "_model_name": "LayoutModel",
            "_view_count": null,
            "_view_module": "@jupyter-widgets/base",
            "_view_module_version": "1.2.0",
            "_view_name": "LayoutView",
            "align_content": null,
            "align_items": null,
            "align_self": null,
            "border": null,
            "bottom": null,
            "display": null,
            "flex": null,
            "flex_flow": null,
            "grid_area": null,
            "grid_auto_columns": null,
            "grid_auto_flow": null,
            "grid_auto_rows": null,
            "grid_column": null,
            "grid_gap": null,
            "grid_row": null,
            "grid_template_areas": null,
            "grid_template_columns": null,
            "grid_template_rows": null,
            "height": null,
            "justify_content": null,
            "justify_items": null,
            "left": null,
            "margin": null,
            "max_height": null,
            "max_width": null,
            "min_height": null,
            "min_width": null,
            "object_fit": null,
            "object_position": null,
            "order": null,
            "overflow": null,
            "overflow_x": null,
            "overflow_y": null,
            "padding": null,
            "right": null,
            "top": null,
            "visibility": null,
            "width": null
          }
        },
        "b8956abbeea940e3a0b73232bc20f49b": {
          "model_module": "@jupyter-widgets/controls",
          "model_name": "ButtonStyleModel",
          "model_module_version": "1.5.0",
          "state": {
            "_model_module": "@jupyter-widgets/controls",
            "_model_module_version": "1.5.0",
            "_model_name": "ButtonStyleModel",
            "_view_count": null,
            "_view_module": "@jupyter-widgets/base",
            "_view_module_version": "1.2.0",
            "_view_name": "StyleView",
            "button_color": null,
            "font_weight": ""
          }
        }
      }
    }
  },
  "cells": [
    {
      "cell_type": "markdown",
      "metadata": {
        "id": "view-in-github",
        "colab_type": "text"
      },
      "source": [
        "<a href=\"https://colab.research.google.com/github/KleytonFarias/ProjetoImersaoAluraIA/blob/main/Projeto_Imersao_IA_ALURA.ipynb\" target=\"_parent\"><img src=\"https://colab.research.google.com/assets/colab-badge.svg\" alt=\"Open In Colab\"/></a>"
      ]
    },
    {
      "cell_type": "markdown",
      "source": [
        "AQUI ESTÁ O CÓDIGO DE INSTALAÇÃO DO GEMINI"
      ],
      "metadata": {
        "id": "HLl_f1o1xNw5"
      }
    },
    {
      "cell_type": "code",
      "execution_count": 1,
      "metadata": {
        "colab": {
          "base_uri": "https://localhost:8080/"
        },
        "collapsed": true,
        "id": "8vYWTqszw-bq",
        "outputId": "e7ab1bb1-7aea-477f-9977-65935f776486"
      },
      "outputs": [
        {
          "output_type": "stream",
          "name": "stdout",
          "text": [
            "Requirement already satisfied: google.generativeai in /usr/local/lib/python3.10/dist-packages (0.5.2)\n",
            "Requirement already satisfied: google-ai-generativelanguage==0.6.2 in /usr/local/lib/python3.10/dist-packages (from google.generativeai) (0.6.2)\n",
            "Requirement already satisfied: google-api-core in /usr/local/lib/python3.10/dist-packages (from google.generativeai) (2.11.1)\n",
            "Requirement already satisfied: google-api-python-client in /usr/local/lib/python3.10/dist-packages (from google.generativeai) (2.84.0)\n",
            "Requirement already satisfied: google-auth>=2.15.0 in /usr/local/lib/python3.10/dist-packages (from google.generativeai) (2.27.0)\n",
            "Requirement already satisfied: protobuf in /usr/local/lib/python3.10/dist-packages (from google.generativeai) (3.20.3)\n",
            "Requirement already satisfied: pydantic in /usr/local/lib/python3.10/dist-packages (from google.generativeai) (2.7.1)\n",
            "Requirement already satisfied: tqdm in /usr/local/lib/python3.10/dist-packages (from google.generativeai) (4.66.4)\n",
            "Requirement already satisfied: typing-extensions in /usr/local/lib/python3.10/dist-packages (from google.generativeai) (4.11.0)\n",
            "Requirement already satisfied: proto-plus<2.0.0dev,>=1.22.3 in /usr/local/lib/python3.10/dist-packages (from google-ai-generativelanguage==0.6.2->google.generativeai) (1.23.0)\n",
            "Requirement already satisfied: cachetools<6.0,>=2.0.0 in /usr/local/lib/python3.10/dist-packages (from google-auth>=2.15.0->google.generativeai) (5.3.3)\n",
            "Requirement already satisfied: pyasn1-modules>=0.2.1 in /usr/local/lib/python3.10/dist-packages (from google-auth>=2.15.0->google.generativeai) (0.4.0)\n",
            "Requirement already satisfied: rsa<5,>=3.1.4 in /usr/local/lib/python3.10/dist-packages (from google-auth>=2.15.0->google.generativeai) (4.9)\n",
            "Requirement already satisfied: googleapis-common-protos<2.0.dev0,>=1.56.2 in /usr/local/lib/python3.10/dist-packages (from google-api-core->google.generativeai) (1.63.0)\n",
            "Requirement already satisfied: requests<3.0.0.dev0,>=2.18.0 in /usr/local/lib/python3.10/dist-packages (from google-api-core->google.generativeai) (2.31.0)\n",
            "Requirement already satisfied: httplib2<1dev,>=0.15.0 in /usr/local/lib/python3.10/dist-packages (from google-api-python-client->google.generativeai) (0.22.0)\n",
            "Requirement already satisfied: google-auth-httplib2>=0.1.0 in /usr/local/lib/python3.10/dist-packages (from google-api-python-client->google.generativeai) (0.1.1)\n",
            "Requirement already satisfied: uritemplate<5,>=3.0.1 in /usr/local/lib/python3.10/dist-packages (from google-api-python-client->google.generativeai) (4.1.1)\n",
            "Requirement already satisfied: annotated-types>=0.4.0 in /usr/local/lib/python3.10/dist-packages (from pydantic->google.generativeai) (0.6.0)\n",
            "Requirement already satisfied: pydantic-core==2.18.2 in /usr/local/lib/python3.10/dist-packages (from pydantic->google.generativeai) (2.18.2)\n",
            "Requirement already satisfied: grpcio<2.0dev,>=1.33.2 in /usr/local/lib/python3.10/dist-packages (from google-api-core->google.generativeai) (1.63.0)\n",
            "Requirement already satisfied: grpcio-status<2.0.dev0,>=1.33.2 in /usr/local/lib/python3.10/dist-packages (from google-api-core->google.generativeai) (1.48.2)\n",
            "Requirement already satisfied: pyparsing!=3.0.0,!=3.0.1,!=3.0.2,!=3.0.3,<4,>=2.4.2 in /usr/local/lib/python3.10/dist-packages (from httplib2<1dev,>=0.15.0->google-api-python-client->google.generativeai) (3.1.2)\n",
            "Requirement already satisfied: pyasn1<0.7.0,>=0.4.6 in /usr/local/lib/python3.10/dist-packages (from pyasn1-modules>=0.2.1->google-auth>=2.15.0->google.generativeai) (0.6.0)\n",
            "Requirement already satisfied: charset-normalizer<4,>=2 in /usr/local/lib/python3.10/dist-packages (from requests<3.0.0.dev0,>=2.18.0->google-api-core->google.generativeai) (3.3.2)\n",
            "Requirement already satisfied: idna<4,>=2.5 in /usr/local/lib/python3.10/dist-packages (from requests<3.0.0.dev0,>=2.18.0->google-api-core->google.generativeai) (3.7)\n",
            "Requirement already satisfied: urllib3<3,>=1.21.1 in /usr/local/lib/python3.10/dist-packages (from requests<3.0.0.dev0,>=2.18.0->google-api-core->google.generativeai) (2.0.7)\n",
            "Requirement already satisfied: certifi>=2017.4.17 in /usr/local/lib/python3.10/dist-packages (from requests<3.0.0.dev0,>=2.18.0->google-api-core->google.generativeai) (2024.2.2)\n"
          ]
        }
      ],
      "source": [
        "!pip install google.generativeai"
      ]
    },
    {
      "cell_type": "markdown",
      "source": [
        "AQUI É ONDE EU FAÇO A IMPORTAÇÃO DAS BIBLIOTECAS E A CHAMADA DA API USANDO A CHAVE"
      ],
      "metadata": {
        "id": "hk5v88W9x4lC"
      }
    },
    {
      "cell_type": "code",
      "source": [
        "import google.generativeai as genai\n",
        "import ipywidgets as widgets\n",
        "from IPython.display import display\n",
        "from google.colab import userdata\n",
        "from sklearn.metrics.pairwise import cosine_similarity\n",
        "import numpy as np\n",
        "\n",
        "# Configurar API Key\n",
        "API_KEY = userdata.get('SECRETKEY')\n",
        "genai.configure(api_key=API_KEY)"
      ],
      "metadata": {
        "id": "gva7qTGMd30x"
      },
      "execution_count": 52,
      "outputs": []
    },
    {
      "cell_type": "markdown",
      "source": [
        "AQUI É ONDE EU ADICIONO AS INFORMAÇÕES EM RELAÇÃO AO CONTRATO E AS REGRAS"
      ],
      "metadata": {
        "id": "IE0C7hureC9s"
      }
    },
    {
      "cell_type": "code",
      "source": [
        "# AQUI É FEITA A BUSCA DO MODELO\n",
        "for m in genai.list_models():\n",
        "    if 'embedContent' in m.supported_generation_methods:\n",
        "        EMBEDDING_MODEL_NAME = m.name\n",
        "        break\n",
        "\n",
        "if EMBEDDING_MODEL_NAME is None:\n",
        "    raise ValueError(\"Nenhum modelo com suporte a 'embedContent' encontrado!\")\n",
        "\n",
        "# AQUI FICA AS INSERÇÕES DOS CONTEUDOS DAS VARIAVEIS\n",
        "regras_input = widgets.Textarea(description='Regras (separadas por linha):', value='')\n",
        "contrato_input = widgets.Textarea(description='Contrato:', value='')\n",
        "botao_submit = widgets.Button(description='Analisar Contrato')"
      ],
      "metadata": {
        "id": "XVJkmMPZeBAy"
      },
      "execution_count": 53,
      "outputs": []
    },
    {
      "cell_type": "markdown",
      "source": [
        "AQUI É A PARTE QUE CRIA AS FUNÇÕES E FAZ A ANÁLISE DO CONTRATO DE ACORDO COM AS REGRAS ESTABELECIDAS."
      ],
      "metadata": {
        "id": "NlCYGzBj3Xgd"
      }
    },
    {
      "cell_type": "code",
      "source": [
        "relatorio = []\n",
        "\n",
        "def gerar_embedding(texto):\n",
        "    \"\"\"Gera um embedding para o texto usando 'embedContent'.\"\"\"\n",
        "    response = genai.embed_content(model=EMBEDDING_MODEL_NAME, content=texto)\n",
        "    return response['embedding']\n",
        "\n",
        "def calcular_similaridade(embedding1, embedding2):\n",
        "    \"\"\"Calcula a similaridade de cosseno entre dois embeddings.\"\"\"\n",
        "    embedding1 = np.array(embedding1)\n",
        "    embedding2 = np.array(embedding2)\n",
        "    return cosine_similarity(embedding1.reshape(1, -1), embedding2.reshape(1, -1))[0][0]\n",
        "\n",
        "def analisar_secao(secao, regras):\n",
        "    \"\"\"Analisa uma seção do contrato em relação às regras.\"\"\"\n",
        "    secao_embedding = gerar_embedding(secao)\n",
        "    resultados = []\n",
        "\n",
        "    for i, regra in enumerate(regras):\n",
        "        regra_embedding = gerar_embedding(regra)\n",
        "        similaridade = calcular_similaridade(secao_embedding, regra_embedding)\n",
        "\n",
        "        resultados.append({\n",
        "            'regra': regra,\n",
        "            'similaridade': similaridade\n",
        "        })\n",
        "\n",
        "    return resultados\n",
        "\n",
        "def on_submit(button):\n",
        "    global relatorio\n",
        "    regras = regras_input.value.splitlines()\n",
        "    contrato = contrato_input.value.splitlines()\n",
        "\n",
        "    for i, secao in enumerate(contrato):\n",
        "        resultados = analisar_secao(secao, regras)\n",
        "        relatorio.append(f\"**Seção {i+1}:**\")\n",
        "\n",
        "        for resultado in resultados:\n",
        "            relatorio.append(f\"  - Regra: {resultado['regra']}\")\n",
        "            relatorio.append(f\"    Similaridade: {resultado['similaridade']:.2f}\")\n",
        "\n",
        "            if resultado['similaridade'] < 0.6:\n",
        "                relatorio.append(f\"    **Atenção:** Baixa similaridade com a regra!\")\n",
        "\n",
        "    print(\"\\n\".join(relatorio))\n",
        "\n",
        "botao_submit.on_click(on_submit)\n",
        "display(regras_input)\n",
        "display(contrato_input)\n",
        "display(botao_submit)"
      ],
      "metadata": {
        "colab": {
          "base_uri": "https://localhost:8080/",
          "height": 502,
          "referenced_widgets": [
            "1c246a14a2a4430d9757051737dcd200",
            "b4ea52ae8d9f42f8b1c431660f98134f",
            "5936c12be2ea4087959ceb67b269e082",
            "3225a71fe8cc4edbad1aded3040d998a",
            "e200251541284f7d94ca6b50364be8a6",
            "aa017b00a9e1496eb29663b2e9f27495",
            "05860da1642d4f09abf4908de82009de",
            "26d3ab2c07c745458b13e9fdcc30e6d9",
            "b8956abbeea940e3a0b73232bc20f49b"
          ]
        },
        "id": "x2zwktH5831_",
        "outputId": "300403a5-1b7c-4efe-acd2-d1b294c845a0"
      },
      "execution_count": 54,
      "outputs": [
        {
          "output_type": "display_data",
          "data": {
            "text/plain": [
              "Textarea(value='', description='Regras (separadas por linha):')"
            ],
            "application/vnd.jupyter.widget-view+json": {
              "version_major": 2,
              "version_minor": 0,
              "model_id": "1c246a14a2a4430d9757051737dcd200"
            }
          },
          "metadata": {}
        },
        {
          "output_type": "display_data",
          "data": {
            "text/plain": [
              "Textarea(value='', description='Contrato:')"
            ],
            "application/vnd.jupyter.widget-view+json": {
              "version_major": 2,
              "version_minor": 0,
              "model_id": "3225a71fe8cc4edbad1aded3040d998a"
            }
          },
          "metadata": {}
        },
        {
          "output_type": "display_data",
          "data": {
            "text/plain": [
              "Button(description='Analisar Contrato', style=ButtonStyle())"
            ],
            "application/vnd.jupyter.widget-view+json": {
              "version_major": 2,
              "version_minor": 0,
              "model_id": "05860da1642d4f09abf4908de82009de"
            }
          },
          "metadata": {}
        },
        {
          "output_type": "stream",
          "name": "stdout",
          "text": [
            "**Seção 1:**\n",
            "  - Regra: O contrato deve ter duração mínima de 1 ano.\n",
            "    Similaridade: 0.93\n",
            "  - Regra: O valor da remuneração deve ser explicitamente definido.\n",
            "    Similaridade: 0.71\n",
            "  - Regra: O contrato deve especificar as obrigações de ambas as partes.\n",
            "    Similaridade: 0.80\n",
            "**Seção 2:**\n",
            "  - Regra: O contrato deve ter duração mínima de 1 ano.\n",
            "    Similaridade: 0.74\n",
            "  - Regra: O valor da remuneração deve ser explicitamente definido.\n",
            "    Similaridade: 0.74\n",
            "  - Regra: O contrato deve especificar as obrigações de ambas as partes.\n",
            "    Similaridade: 0.73\n",
            "**Seção 3:**\n",
            "  - Regra: O contrato deve ter duração mínima de 1 ano.\n",
            "    Similaridade: 0.76\n",
            "  - Regra: O valor da remuneração deve ser explicitamente definido.\n",
            "    Similaridade: 0.74\n",
            "  - Regra: O contrato deve especificar as obrigações de ambas as partes.\n",
            "    Similaridade: 0.88\n"
          ]
        }
      ]
    }
  ]
}